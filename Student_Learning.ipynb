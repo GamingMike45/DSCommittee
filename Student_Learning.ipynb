{
 "cells": [
  {
   "cell_type": "markdown",
   "metadata": {},
   "source": [
    "# Data Science Learning Notebook\n",
    "This notebook will teach you the basics of numpy, pandas, matplotlib, and seaborn. We will generate fake train and test data, perform data manipulation, and visualize the data."
   ]
  },
  {
   "cell_type": "code",
   "execution_count": null,
   "metadata": {},
   "outputs": [],
   "source": [
    "# Import necessary libraries\n",
    "import numpy as np\n",
    "import pandas as pd\n",
    "import matplotlib.pyplot as plt\n",
    "import seaborn as sns\n",
    "\n",
    "# Set the style for seaborn\n",
    "sns.set(style=\"whitegrid\")"
   ]
  },
  {
   "cell_type": "markdown",
   "metadata": {},
   "source": [
    "## Numpy Basics\n",
    "Numpy is a powerful library for numerical computing in Python. It provides support for arrays, matrices, and many mathematical functions."
   ]
  },
  {
   "cell_type": "code",
   "execution_count": null,
   "metadata": {},
   "outputs": [],
   "source": [
    "# Create a numpy array\n",
    "array = np.array([1, 2, 3, 4, 5])\n",
    "print(\"Numpy Array:\", array)\n",
    "\n",
    "# Create a 2D numpy array (matrix)\n",
    "matrix = np.array([[1, 2, 3], [4, 5, 6], [7, 8, 9]])\n",
    "print(\"Numpy Matrix:\\n\", matrix)\n",
    "\n",
    "# Perform basic operations\n",
    "print(\"Sum of array:\", np.sum(array))\n",
    "print(\"Mean of matrix:\", np.mean(matrix))"
   ]
  },
  {
   "cell_type": "markdown",
   "metadata": {},
   "source": [
    "## Pandas Basics\n",
    "Pandas is a powerful library for data manipulation and analysis. It provides data structures like Series and DataFrame."
   ]
  },
  {
   "cell_type": "code",
   "execution_count": null,
   "metadata": {},
   "outputs": [],
   "source": [
    "# Create a pandas Series\n",
    "series = pd.Series([1, 2, 3, 4, 5])\n",
    "print(\"Pandas Series:\\n\", series)\n",
    "\n",
    "# Create a pandas DataFrame\n",
    "data = {'A': [1, 2, 3, 4], 'B': [5, 6, 7, 8], 'C': [9, 10, 11, 12]}\n",
    "df = pd.DataFrame(data)\n",
    "print(\"Pandas DataFrame:\\n\", df)\n",
    "\n",
    "# Perform basic operations\n",
    "print(\"Sum of column A:\", df['A'].sum())\n",
    "print(\"Mean of DataFrame:\", df.mean())"
   ]
  },
  {
   "cell_type": "markdown",
   "metadata": {},
   "source": [
    "## Generating Fake Train and Test Data\n",
    "We will generate fake train and test data using numpy and pandas."
   ]
  },
  {
   "cell_type": "code",
   "execution_count": null,
   "metadata": {},
   "outputs": [],
   "source": [
    "# Generate fake data\n",
    "np.random.seed(0)  # For reproducibility\n",
    "train_data = np.random.randn(100, 4)  # 100 rows, 4 columns\n",
    "test_data = np.random.randn(20, 4)  # 20 rows, 4 columns\n",
    "\n",
    "# Create pandas DataFrames\n",
    "train_df = pd.DataFrame(train_data, columns=['Feature1', 'Feature2', 'Feature3', 'Feature4'])\n",
    "test_df = pd.DataFrame(test_data, columns=['Feature1', 'Feature2', 'Feature3', 'Feature4'])\n",
    "\n",
    "print(\"Train DataFrame:\\n\", train_df.head())\n",
    "print(\"Test DataFrame:\\n\", test_df.head())"
   ]
  },
  {
   "cell_type": "markdown",
   "metadata": {},
   "source": [
    "## Data Manipulation\n",
    "We will perform some basic data manipulation using pandas."
   ]
  },
  {
   "cell_type": "code",
   "execution_count": null,
   "metadata": {},
   "outputs": [],
   "source": [
    "# Add a new column to train DataFrame\n",
    "train_df['Target'] = np.random.randint(0, 2, size=100)  # Binary target variable\n",
    "print(\"Train DataFrame with Target:\\n\", train_df.head())\n",
    "\n",
    "# Filter rows where Target is 1\n",
    "filtered_df = train_df[train_df['Target'] == 1]\n",
    "print(\"Filtered DataFrame (Target=1):\\n\", filtered_df.head())"
   ]
  },
  {
   "cell_type": "code",
   "execution_count": null,
   "metadata": {},
   "outputs": [],
   "source": [
    "# Add new features based on existing ones\n",
    "train_df['Feature_Sum'] = train_df['Feature1'] + train_df['Feature2']\n",
    "train_df['Feature_Diff'] = train_df['Feature3'] - train_df['Feature4']\n",
    "train_df['Feature_Product'] = train_df['Feature1'] * train_df['Feature3']\n",
    "train_df['Feature_Ratio'] = train_df['Feature2'] / (train_df['Feature4'] + 1e-5)  # Adding a small value to avoid division by zero\n",
    "\n",
    "print(\"Train DataFrame with Intermediate Features:\\n\", train_df.head())"
   ]
  },
  {
   "cell_type": "markdown",
   "metadata": {},
   "source": [
    "## Data Visualization with Matplotlib and Seaborn\n",
    "We will visualize the data using matplotlib and seaborn."
   ]
  },
  {
   "cell_type": "code",
   "execution_count": null,
   "metadata": {},
   "outputs": [],
   "source": [
    "# Plot a histogram of Feature1\n",
    "plt.figure(figsize=(8, 6))\n",
    "plt.hist(train_df['Feature1'], bins=20, color='blue', alpha=0.7)\n",
    "plt.title('Histogram of Feature1')\n",
    "plt.xlabel('Feature1')\n",
    "plt.ylabel('Frequency')\n",
    "plt.show()\n",
    "\n",
    "# Plot a seaborn heatmap of the correlation matrix\n",
    "plt.figure(figsize=(10, 8))\n",
    "correlation_matrix = train_df.corr()\n",
    "sns.heatmap(correlation_matrix, annot=True, cmap='coolwarm', linewidths=0.5)\n",
    "plt.title('Correlation Matrix Heatmap')\n",
    "plt.show()\n",
    "\n",
    "# Plot a pairplot of the train DataFrame\n",
    "sns.pairplot(train_df, hue='Target')\n",
    "plt.show()"
   ]
  },
  {
   "cell_type": "markdown",
   "metadata": {},
   "source": [
    "## Using Sklearn for Model Training and Evaluation\n",
    "We will use sklearn to train a simple model and evaluate its performance."
   ]
  },
  {
   "cell_type": "code",
   "execution_count": null,
   "metadata": {},
   "outputs": [],
   "source": [
    "# Import necessary libraries from sklearn\n",
    "from sklearn.model_selection import train_test_split\n",
    "from sklearn.linear_model import LogisticRegression\n",
    "from sklearn.metrics import accuracy_score, confusion_matrix, classification_report\n",
    "\n",
    "# Split the data into train and validation sets\n",
    "X = train_df[['Feature1', 'Feature2', 'Feature3', 'Feature4', 'Feature_Sum', 'Feature_Diff', 'Feature_Product', 'Feature_Ratio']]\n",
    "y = train_df['Target']\n",
    "X_train, X_val, y_train, y_val = train_test_split(X, y, test_size=0.2, random_state=0)\n",
    "\n",
    "# Train a Logistic Regression model\n",
    "model = LogisticRegression()\n",
    "model.fit(X_train, y_train)\n",
    "\n",
    "# Make predictions on the validation set\n",
    "y_pred = model.predict(X_val)\n",
    "\n",
    "# Evaluate the model\n",
    "accuracy = accuracy_score(y_val, y_pred)\n",
    "conf_matrix = confusion_matrix(y_val, y_pred)\n",
    "class_report = classification_report(y_val, y_pred)\n",
    "\n",
    "print(\"Accuracy:\", accuracy)\n",
    "print(\"Confusion Matrix:\\n\", conf_matrix)\n",
    "print(\"Classification Report:\\n\", class_report)"
   ]
  },
  {
   "cell_type": "markdown",
   "metadata": {},
   "source": [
    "Diffrent Models can produce diffrenct accuracys. Using train test split ensure that the accuracy is acurate "
   ]
  },
  {
   "cell_type": "code",
   "execution_count": 34,
   "metadata": {},
   "outputs": [
    {
     "name": "stdout",
     "output_type": "stream",
     "text": [
      "Decision Tree Classifier Accuracy: 0.5\n",
      "Decision Tree Classifier Confusion Matrix:\n",
      " [[6 5]\n",
      " [5 4]]\n",
      "Decision Tree Classifier Classification Report:\n",
      "               precision    recall  f1-score   support\n",
      "\n",
      "           0       0.55      0.55      0.55        11\n",
      "           1       0.44      0.44      0.44         9\n",
      "\n",
      "    accuracy                           0.50        20\n",
      "   macro avg       0.49      0.49      0.49        20\n",
      "weighted avg       0.50      0.50      0.50        20\n",
      "\n"
     ]
    }
   ],
   "source": [
    "# Import necessary libraries from sklearn\n",
    "from sklearn.tree import DecisionTreeClassifier\n",
    "\n",
    "# Train a Decision Tree Classifier model\n",
    "dt_model = DecisionTreeClassifier(random_state=0)\n",
    "dt_model.fit(X_train, y_train)\n",
    "\n",
    "# Make predictions on the validation set\n",
    "y_pred_dt = dt_model.predict(X_val)\n",
    "\n",
    "# Evaluate the Decision Tree model\n",
    "accuracy_dt = accuracy_score(y_val, y_pred_dt)\n",
    "conf_matrix_dt = confusion_matrix(y_val, y_pred_dt)\n",
    "class_report_dt = classification_report(y_val, y_pred_dt)\n",
    "\n",
    "print(\"Decision Tree Classifier Accuracy:\", accuracy_dt)\n",
    "print(\"Decision Tree Classifier Confusion Matrix:\\n\", conf_matrix_dt)\n",
    "print(\"Decision Tree Classifier Classification Report:\\n\", class_report_dt)"
   ]
  },
  {
   "cell_type": "code",
   "execution_count": null,
   "metadata": {},
   "outputs": [],
   "source": [
    "# Import necessary libraries from sklearn\n",
    "from sklearn.ensemble import RandomForestClassifier\n",
    "\n",
    "# Train a Random Forest Classifier model\n",
    "rf_model = RandomForestClassifier(random_state=0)\n",
    "rf_model.fit(X_train, y_train)\n",
    "\n",
    "# Make predictions on the validation set\n",
    "y_pred_rf = rf_model.predict(X_val)\n",
    "\n",
    "# Evaluate the Random Forest model\n",
    "accuracy_rf = accuracy_score(y_val, y_pred_rf)\n",
    "conf_matrix_rf = confusion_matrix(y_val, y_pred_rf)\n",
    "class_report_rf = classification_report(y_val, y_pred_rf)\n",
    "\n",
    "print(\"Random Forest Classifier Accuracy:\", accuracy_rf)\n",
    "print(\"Random Forest Classifier Confusion Matrix:\\n\", conf_matrix_rf)\n",
    "print(\"Random Forest Classifier Classification Report:\\n\", class_report_rf)"
   ]
  }
 ],
 "metadata": {
  "kernelspec": {
   "display_name": "Python 3",
   "language": "python",
   "name": "python3"
  },
  "language_info": {
   "codemirror_mode": {
    "name": "ipython",
    "version": 3
   },
   "file_extension": ".py",
   "mimetype": "text/x-python",
   "name": "python",
   "nbconvert_exporter": "python",
   "pygments_lexer": "ipython3",
   "version": "3.12.9"
  }
 },
 "nbformat": 4,
 "nbformat_minor": 2
}
