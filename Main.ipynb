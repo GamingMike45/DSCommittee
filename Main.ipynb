{
 "cells": [
  {
   "cell_type": "code",
   "execution_count": null,
   "metadata": {},
   "outputs": [],
   "source": [
    "import Data_Editing_Helpers as DEH\n",
    "import Classifier as CLF\n",
    "import Regressor as RGS\n",
    "import pandas as pd\n",
    "from sklearn.metrics import accuracy_score, r2_score"
   ]
  },
  {
   "cell_type": "code",
   "execution_count": null,
   "metadata": {},
   "outputs": [],
   "source": [
    "## Loading ##\n",
    "test = pd.read_csv(\"Data/test.csv\")\n",
    "train = pd.read_csv(\"Data/train.csv\")"
   ]
  },
  {
   "cell_type": "code",
   "execution_count": null,
   "metadata": {},
   "outputs": [],
   "source": [
    "y_name = 'rainfall' # What you're trying to predict\n",
    "x_name = 'id' # User id. Drop this column\n",
    "\n",
    "# Set this to True if you want to run regression models, False for classification models\n",
    "is_regression = True"
   ]
  },
  {
   "cell_type": "code",
   "execution_count": null,
   "metadata": {},
   "outputs": [],
   "source": [
    "## Visualizing ##\n",
    "DEH.makeSNS(train)   # This outputs all graphs, can be annoying\n",
    "\n",
    "#test = test.drop(columns=['pressure', 'maxtemp', 'temparature', \"mintemp\", 'winddirection', \"dewpoint\"])\n",
    "#train = train.drop(columns=['pressure', 'maxtemp', 'temparature', \"mintemp\", 'winddirection', \"dewpoint\"])\n"
   ]
  },
  {
   "cell_type": "code",
   "execution_count": null,
   "metadata": {},
   "outputs": [],
   "source": [
    "## Wrangling ##\n",
    "#Future implementation will remove map_seasons and convert_strings_to_ascii\n",
    "train, test = DEH.map_seasons(train, test)\n",
    "#train = DEH.convert_strings_to_ascii(train)\n",
    "#test = DEH.convert_strings_to_ascii(test)\n",
    "train, test = DEH.dropUnusedColumns(train, test, y_name, x_name)\n",
    "train = DEH.remove_blank_rows(train, y_name)"
   ]
  },
  {
   "cell_type": "code",
   "execution_count": null,
   "metadata": {},
   "outputs": [],
   "source": [
    "# Using 99 as a filler for NA's. Will change to use Random Forest for filling NA's \n",
    "train, test = DEH.fill_NA(train, test, fill=99)\n",
    "X_train, X_test, y_train, y_test = DEH.traintestslpit(train, y_name)"
   ]
  },
  {
   "cell_type": "code",
   "execution_count": null,
   "metadata": {},
   "outputs": [],
   "source": [
    "def evaluate_model(model_func, X_train, y_train, X_test, y_test, model_name, results, is_regression):\n",
    "    model = model_func(X_train, y_train)\n",
    "    predictions = model.predict(X_test)\n",
    "    if is_regression:\n",
    "        score = r2_score(y_test, predictions) * 100\n",
    "    else:\n",
    "        score = accuracy_score(y_test, predictions) * 100\n",
    "    results.append({\"model\": model_name, \"score\": score, \"model_obj\": model})\n",
    "    print(f\"{model_name} score: {score:.3f}\")\n",
    "\n",
    "## Training Models ##\n",
    "results = []\n"
   ]
  },
  {
   "cell_type": "markdown",
   "metadata": {},
   "source": [
    "Evaluate regression models"
   ]
  },
  {
   "cell_type": "code",
   "execution_count": null,
   "metadata": {},
   "outputs": [],
   "source": [
    "if is_regression  == True:\n",
    "    target=evaluate_model(RGS.decisiontreeRegressor, X_train, y_train, X_test, y_test, \"Decision Tree Regressor\", results, is_regression)"
   ]
  },
  {
   "cell_type": "code",
   "execution_count": null,
   "metadata": {},
   "outputs": [],
   "source": [
    "if is_regression == True:\n",
    "    target=evaluate_model(RGS.linearRegressor, X_train, y_train, X_test, y_test, \"Linear Regressor\", results, is_regression)"
   ]
  },
  {
   "cell_type": "code",
   "execution_count": null,
   "metadata": {},
   "outputs": [],
   "source": [
    "if is_regression == True:\n",
    "    target=evaluate_model(RGS.ridgeRegressor, X_train, y_train, X_test, y_test, \"Ridge Regressor\", results, is_regression)"
   ]
  },
  {
   "cell_type": "code",
   "execution_count": null,
   "metadata": {},
   "outputs": [],
   "source": [
    "if is_regression == True:\n",
    "    target=evaluate_model(RGS.lassoRegressor, X_train, y_train, X_test, y_test, \"Lasso Regressor\", results, is_regression)"
   ]
  },
  {
   "cell_type": "code",
   "execution_count": null,
   "metadata": {},
   "outputs": [],
   "source": [
    "if is_regression == True:\n",
    "    #target=evaluate_model(RGS.randomForestRegressor, X_train, y_train, X_test, y_test, \"Random Forest Regressor\", results, is_regression)"
   ]
  },
  {
   "cell_type": "code",
   "execution_count": null,
   "metadata": {},
   "outputs": [],
   "source": [
    "    \n",
    "if is_regression == True:\n",
    "    #target=evaluate_model(RGS.gradientBoostingRegressor, X_train, y_train, X_test, y_test, \"Gradient Boosting Regressor\", results, is_regression)"
   ]
  },
  {
   "cell_type": "markdown",
   "metadata": {},
   "source": [
    "Evaluate classification models"
   ]
  },
  {
   "cell_type": "code",
   "execution_count": null,
   "metadata": {},
   "outputs": [],
   "source": [
    "if is_regression == True:\n",
    "    target=evaluate_model(RGS.catBoostRegressor, X_train, y_train, X_test, y_test, \"Cat Boost Regressor\", results, is_regression)"
   ]
  },
  {
   "cell_type": "markdown",
   "metadata": {},
   "source": [
    "if is_regression == True:\n",
    "target=evaluate_model(RGS.)"
   ]
  },
  {
   "cell_type": "code",
   "execution_count": null,
   "metadata": {},
   "outputs": [],
   "source": [
    "if is_regression == False:\n",
    "    target=evaluate_model(CLF.decisiontreeClassifier, X_train, y_train, X_test, y_test, \"Decision Tree Classifier\", results, is_regression)"
   ]
  },
  {
   "cell_type": "code",
   "execution_count": null,
   "metadata": {},
   "outputs": [],
   "source": [
    "if is_regression == False:\n",
    "    target=evaluate_model(CLF.knnClassifier, X_train, y_train, X_test, y_test, \"KNN Classifier\", results, is_regression)"
   ]
  },
  {
   "cell_type": "code",
   "execution_count": null,
   "metadata": {},
   "outputs": [],
   "source": [
    "if is_regression == False:\n",
    "    target=evaluate_model(CLF.adaboostClassifier, X_train, y_train, X_test, y_test, \"AdaBoost Classifier\", results, is_regression)"
   ]
  },
  {
   "cell_type": "code",
   "execution_count": null,
   "metadata": {},
   "outputs": [],
   "source": [
    "## Select the best model ##\n",
    "best_model = max(results, key=lambda x: x[\"score\"])\n",
    "print(f\"Best model: {best_model['model']} with score: {best_model['score']:.3f}\")"
   ]
  },
  {
   "cell_type": "code",
   "execution_count": null,
   "metadata": {},
   "outputs": [],
   "source": [
    "## Making Predictions ##\n",
    "predictions = best_model[\"model_obj\"].predict(test)\n",
    "\n",
    "## Submitting ##\n",
    "DEH.generate_submission(predictions, x_name, y_name)"
   ]
  }
 ],
 "metadata": {
  "kernelspec": {
   "display_name": "Python 3",
   "language": "python",
   "name": "python3"
  },
  "language_info": {
   "codemirror_mode": {
    "name": "ipython",
    "version": 3
   },
   "file_extension": ".py",
   "mimetype": "text/x-python",
   "name": "python",
   "nbconvert_exporter": "python",
   "pygments_lexer": "ipython3",
   "version": "3.13.2"
  }
 },
 "nbformat": 4,
 "nbformat_minor": 2
}
